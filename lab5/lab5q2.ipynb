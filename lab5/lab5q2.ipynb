{
  "nbformat": 4,
  "nbformat_minor": 0,
  "metadata": {
    "colab": {
      "name": "lab5q2.ipynb",
      "provenance": [],
      "collapsed_sections": []
    },
    "kernelspec": {
      "display_name": "Python 3",
      "name": "python3"
    },
    "language_info": {
      "name": "python"
    }
  },
  "cells": [
    {
      "cell_type": "code",
      "metadata": {
        "id": "ylzlEp1LC0Tl"
      },
      "source": [
        "!apt-get --purge remove cuda nvidia* libnvidia-*\n",
        "!dpkg -l | grep cuda- | awk '{print $2}' | xargs -n1 dpkg --purge\n",
        "!apt-get remove cuda-*\n",
        "!apt autoremove\n",
        "!apt-get update"
      ],
      "execution_count": null,
      "outputs": []
    },
    {
      "cell_type": "code",
      "metadata": {
        "id": "5StBjMUZDHh6"
      },
      "source": [
        "!wget https://developer.nvidia.com/compute/cuda/9.2/Prod/local_installers/cuda-repo-ubuntu1604-9-2-local_9.2.88-1_amd64 -O cuda-repo-ubuntu1604-9-2-local_9.2.88-1_amd64.deb\n",
        "!dpkg -i cuda-repo-ubuntu1604-9-2-local_9.2.88-1_amd64.deb\n",
        "!apt-key add /var/cuda-repo-9-2-local/7fa2af80.pub\n",
        "!apt-get update\n",
        "!apt-get install cuda-9.2"
      ],
      "execution_count": null,
      "outputs": []
    },
    {
      "cell_type": "code",
      "metadata": {
        "id": "x32Ol4qNDeoi"
      },
      "source": [
        "!nvcc --version"
      ],
      "execution_count": null,
      "outputs": []
    },
    {
      "cell_type": "code",
      "metadata": {
        "id": "8OQREYQ8F8sS"
      },
      "source": [
        "!pip install git+git://github.com/andreinechaev/nvcc4jupyter.git"
      ],
      "execution_count": null,
      "outputs": []
    },
    {
      "cell_type": "code",
      "metadata": {
        "id": "l8_8Aq97GBL_"
      },
      "source": [
        "%load_ext nvcc_plugin"
      ],
      "execution_count": null,
      "outputs": []
    },
    {
      "cell_type": "code",
      "metadata": {
        "colab": {
          "base_uri": "https://localhost:8080/"
        },
        "id": "CI-39dwVFrWQ",
        "outputId": "3254dab8-7890-46dc-e110-91477ac26756"
      },
      "source": [
        "%%cu\n",
        "#include <stdio.h>\n",
        "#include <stdlib.h>\n",
        "#include <cuda.h>\n",
        "\n",
        "#define ARR_LEN 12\n",
        "\n",
        "/*\n",
        " * Sort an array of size ARR_LEN using parallel selection sort. \n",
        "*/\n",
        "\n",
        "__global__ void selectionSort(int *arr, int *result, int n) {\n",
        "  int id = blockIdx.x * blockDim.x + threadIdx.x;\n",
        "\n",
        "  if(id > n)\n",
        "    return;\n",
        "  \n",
        "  int pos = 0;\n",
        "  for(int i=0; i<n; i++)\n",
        "    if(arr[id] > arr[i] || (arr[id] == arr[i] && id > i))\n",
        "      pos++;\n",
        "  \n",
        "  result[pos] = arr[id];\n",
        "}\n",
        "\n",
        "int main() {\n",
        "  // host copies of variables arr, result\n",
        "  int arr[ARR_LEN] = {1, 7, 8, 2, 3, 6, 9, 5, 4 , 12, 11, 10};\n",
        "  int result[ARR_LEN];\n",
        "\n",
        "  printf(\"Original Array: \");\n",
        "  for(int i = 0; i < ARR_LEN; i++)\n",
        "    printf(\"%d \", arr[i]);\n",
        "  printf(\"\\n\");\n",
        "\n",
        "  \n",
        "  // device copies of array arr and result\n",
        "  int *d_arr, *d_result;\n",
        "\n",
        "  int size = ARR_LEN * sizeof(int);\n",
        "\n",
        "  // Allocate space for device copy of arr and result\n",
        "  cudaMalloc((void **)&d_arr, size);\n",
        "  cudaMalloc((void **)&d_result, size);\n",
        "\n",
        "  // Copy inputs to device\n",
        "  cudaMemcpy(d_arr, arr, size, cudaMemcpyHostToDevice);\n",
        "  \n",
        "  // Launch selection sort kernel on GPU\n",
        "  selectionSort<<<1, ARR_LEN>>>(d_arr, d_result, ARR_LEN);\n",
        "\n",
        "  // Copy result to result array\n",
        "  cudaError err = cudaMemcpy(result, d_result, size, cudaMemcpyDeviceToHost);\n",
        "\n",
        "  if(err != cudaSuccess) \n",
        "    printf(\"CUDA error copying to Host: %s\\n\", cudaGetErrorString(err));\n",
        "  \n",
        "  printf(\"Sorted Array:   \");\n",
        "  for(int i = 0; i < ARR_LEN; i++)\n",
        "    printf(\"%d \", result[i]);\n",
        "  printf(\"\\n\");\n",
        "\n",
        "  // Cleanup\n",
        "  cudaFree(d_arr);\n",
        "  cudaFree(d_result);\n",
        "\n",
        "  return 0;\n",
        "}\n"
      ],
      "execution_count": null,
      "outputs": [
        {
          "output_type": "stream",
          "text": [
            "Original Array: 1 7 8 2 3 6 9 5 4 12 11 10 \n",
            "Sorted Array:   1 2 3 4 5 6 7 8 9 10 11 12 \n",
            "\n"
          ],
          "name": "stdout"
        }
      ]
    },
    {
      "cell_type": "code",
      "metadata": {
        "id": "U4gG6Cp3F2y9"
      },
      "source": [
        ""
      ],
      "execution_count": null,
      "outputs": []
    }
  ]
}