{
  "nbformat": 4,
  "nbformat_minor": 0,
  "metadata": {
    "colab": {
      "name": "lab5q3.ipynb",
      "provenance": [],
      "collapsed_sections": []
    },
    "kernelspec": {
      "display_name": "Python 3",
      "name": "python3"
    },
    "language_info": {
      "name": "python"
    }
  },
  "cells": [
    {
      "cell_type": "code",
      "metadata": {
        "id": "ylzlEp1LC0Tl"
      },
      "source": [
        "!apt-get --purge remove cuda nvidia* libnvidia-*\n",
        "!dpkg -l | grep cuda- | awk '{print $2}' | xargs -n1 dpkg --purge\n",
        "!apt-get remove cuda-*\n",
        "!apt autoremove\n",
        "!apt-get update"
      ],
      "execution_count": null,
      "outputs": []
    },
    {
      "cell_type": "code",
      "metadata": {
        "id": "5StBjMUZDHh6"
      },
      "source": [
        "!wget https://developer.nvidia.com/compute/cuda/9.2/Prod/local_installers/cuda-repo-ubuntu1604-9-2-local_9.2.88-1_amd64 -O cuda-repo-ubuntu1604-9-2-local_9.2.88-1_amd64.deb\n",
        "!dpkg -i cuda-repo-ubuntu1604-9-2-local_9.2.88-1_amd64.deb\n",
        "!apt-key add /var/cuda-repo-9-2-local/7fa2af80.pub\n",
        "!apt-get update\n",
        "!apt-get install cuda-9.2"
      ],
      "execution_count": null,
      "outputs": []
    },
    {
      "cell_type": "code",
      "metadata": {
        "id": "x32Ol4qNDeoi",
        "colab": {
          "base_uri": "https://localhost:8080/"
        },
        "outputId": "dd201b58-37e7-493a-abd3-c8c6f845999c"
      },
      "source": [
        "!nvcc --version"
      ],
      "execution_count": null,
      "outputs": [
        {
          "output_type": "stream",
          "text": [
            "nvcc: NVIDIA (R) Cuda compiler driver\n",
            "Copyright (c) 2005-2020 NVIDIA Corporation\n",
            "Built on Wed_Jul_22_19:09:09_PDT_2020\n",
            "Cuda compilation tools, release 11.0, V11.0.221\n",
            "Build cuda_11.0_bu.TC445_37.28845127_0\n"
          ],
          "name": "stdout"
        }
      ]
    },
    {
      "cell_type": "code",
      "metadata": {
        "id": "8OQREYQ8F8sS",
        "colab": {
          "base_uri": "https://localhost:8080/"
        },
        "outputId": "b91b8f70-090a-450e-e307-3c24593ee611"
      },
      "source": [
        "!pip install git+git://github.com/andreinechaev/nvcc4jupyter.git"
      ],
      "execution_count": null,
      "outputs": [
        {
          "output_type": "stream",
          "text": [
            "Collecting git+git://github.com/andreinechaev/nvcc4jupyter.git\n",
            "  Cloning git://github.com/andreinechaev/nvcc4jupyter.git to /tmp/pip-req-build-q98vmpu_\n",
            "  Running command git clone -q git://github.com/andreinechaev/nvcc4jupyter.git /tmp/pip-req-build-q98vmpu_\n",
            "Requirement already satisfied (use --upgrade to upgrade): NVCCPlugin==0.0.2 from git+git://github.com/andreinechaev/nvcc4jupyter.git in /usr/local/lib/python3.7/dist-packages\n",
            "Building wheels for collected packages: NVCCPlugin\n",
            "  Building wheel for NVCCPlugin (setup.py) ... \u001b[?25l\u001b[?25hdone\n",
            "  Created wheel for NVCCPlugin: filename=NVCCPlugin-0.0.2-cp37-none-any.whl size=4307 sha256=dc4a9c98d2fc0ae1075cacb63d25268457f5704ed010a00b8c90fad8939c3e04\n",
            "  Stored in directory: /tmp/pip-ephem-wheel-cache-iux5mwu3/wheels/10/c2/05/ca241da37bff77d60d31a9174f988109c61ba989e4d4650516\n",
            "Successfully built NVCCPlugin\n"
          ],
          "name": "stdout"
        }
      ]
    },
    {
      "cell_type": "code",
      "metadata": {
        "id": "l8_8Aq97GBL_",
        "colab": {
          "base_uri": "https://localhost:8080/"
        },
        "outputId": "ba365343-5923-4eb3-f26d-fecc02cb37ba"
      },
      "source": [
        "%load_ext nvcc_plugin"
      ],
      "execution_count": null,
      "outputs": [
        {
          "output_type": "stream",
          "text": [
            "The nvcc_plugin extension is already loaded. To reload it, use:\n",
            "  %reload_ext nvcc_plugin\n"
          ],
          "name": "stdout"
        }
      ]
    },
    {
      "cell_type": "code",
      "metadata": {
        "colab": {
          "base_uri": "https://localhost:8080/"
        },
        "id": "CI-39dwVFrWQ",
        "outputId": "feb5dc7f-2f45-4a12-a965-5848ccf86ffc"
      },
      "source": [
        "%%cu\n",
        "#include <stdio.h>\n",
        "#include <stdlib.h>\n",
        "#include <cuda.h>\n",
        "#include <device_functions.h>\n",
        "\n",
        "#define ARR_LEN 12\n",
        "#define swap(A,B) {int temp=A; A=B; B=temp;}\n",
        "\n",
        "/*\n",
        " * Sort an array of size ARR_LEN using parallel odd-even transposition sort. \n",
        "*/\n",
        "\n",
        "__global__ void oddEvenSort(int *arr, int n) {\n",
        "  int len = (n + 1) /2;\n",
        "\n",
        "  int index = threadIdx.x;\n",
        "  int isOdd = index & 1;  \n",
        "  int isWithinBounds = (index < (n-1));\n",
        "\n",
        "  for(int i = 0; i < len; i++){\n",
        "    // even cycle\n",
        "    if(!isOdd && isWithinBounds){\n",
        "        if(arr[index] > arr[index + 1])\n",
        "            swap(arr[index], arr[index + 1]);\n",
        "    }\n",
        "    __syncthreads();\n",
        "\n",
        "    // odd cycle\n",
        "    if(isOdd && isWithinBounds){\n",
        "        if(arr[index] > arr[index + 1])\n",
        "            swap(arr[index], arr[index + 1]);\n",
        "    }\n",
        "\n",
        "    __syncthreads();\n",
        "  }\n",
        "}\n",
        "\n",
        "int main() {\n",
        "  // host copies of variables arr, result\n",
        "  int arr[ARR_LEN] = {1, 7, 8, 2, 3, 6, 9, 5, 4 , 12, 11, 10};\n",
        "  int result[ARR_LEN];\n",
        "\n",
        "  printf(\"Original Array: \");\n",
        "  for(int i = 0; i < ARR_LEN; i++)\n",
        "    printf(\"%d \", arr[i]);\n",
        "  printf(\"\\n\");\n",
        "\n",
        "  \n",
        "  // device copies of array arr\n",
        "  int *d_arr;\n",
        "\n",
        "  int size = ARR_LEN * sizeof(int);\n",
        "\n",
        "  // Allocate space for device copy of arr\n",
        "  cudaMalloc((void **)&d_arr, size);\n",
        "\n",
        "  // Copy inputs to device\n",
        "  cudaMemcpy(d_arr, arr, size, cudaMemcpyHostToDevice);\n",
        "\n",
        "  \n",
        "  // Launch oddEven sort kernel on GPU\n",
        "  oddEvenSort<<<1, ARR_LEN>>>(d_arr, ARR_LEN);\n",
        "\n",
        "  // Copy result to result array\n",
        "  cudaError err = cudaMemcpy(&result, d_arr, size, cudaMemcpyDeviceToHost);\n",
        "\n",
        "  if(err != cudaSuccess) \n",
        "    printf(\"CUDA error copying to Host: %s\\n\", cudaGetErrorString(err));\n",
        "  \n",
        "  printf(\"Sorted Array:   \");\n",
        "  for(int i = 0; i < ARR_LEN; i++)\n",
        "    printf(\"%d \", result[i]);\n",
        "  printf(\"\\n\");\n",
        "\n",
        "  // Cleanup\n",
        "  cudaFree(d_arr);\n",
        "  return 0;\n",
        "}"
      ],
      "execution_count": null,
      "outputs": [
        {
          "output_type": "stream",
          "text": [
            "Original Array: 1 7 8 2 3 6 9 5 4 12 11 10 \n",
            "Sorted Array:   1 2 3 4 5 6 7 8 9 10 11 12 \n",
            "\n"
          ],
          "name": "stdout"
        }
      ]
    },
    {
      "cell_type": "code",
      "metadata": {
        "id": "U4gG6Cp3F2y9"
      },
      "source": [
        ""
      ],
      "execution_count": null,
      "outputs": []
    }
  ]
}