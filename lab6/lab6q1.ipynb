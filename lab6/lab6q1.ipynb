{
  "nbformat": 4,
  "nbformat_minor": 0,
  "metadata": {
    "colab": {
      "name": "lab6q1.ipynb",
      "provenance": [],
      "collapsed_sections": []
    },
    "kernelspec": {
      "display_name": "Python 3",
      "name": "python3"
    },
    "language_info": {
      "name": "python"
    }
  },
  "cells": [
    {
      "cell_type": "code",
      "metadata": {
        "id": "ylzlEp1LC0Tl"
      },
      "source": [
        "!apt-get --purge remove cuda nvidia* libnvidia-*\n",
        "!dpkg -l | grep cuda- | awk '{print $2}' | xargs -n1 dpkg --purge\n",
        "!apt-get remove cuda-*\n",
        "!apt autoremove\n",
        "!apt-get update"
      ],
      "execution_count": null,
      "outputs": []
    },
    {
      "cell_type": "code",
      "metadata": {
        "id": "5StBjMUZDHh6"
      },
      "source": [
        "!wget https://developer.nvidia.com/compute/cuda/9.2/Prod/local_installers/cuda-repo-ubuntu1604-9-2-local_9.2.88-1_amd64 -O cuda-repo-ubuntu1604-9-2-local_9.2.88-1_amd64.deb\n",
        "!dpkg -i cuda-repo-ubuntu1604-9-2-local_9.2.88-1_amd64.deb\n",
        "!apt-key add /var/cuda-repo-9-2-local/7fa2af80.pub\n",
        "!apt-get update\n",
        "!apt-get install cuda-9.2"
      ],
      "execution_count": null,
      "outputs": []
    },
    {
      "cell_type": "code",
      "metadata": {
        "id": "x32Ol4qNDeoi"
      },
      "source": [
        "!nvcc --version"
      ],
      "execution_count": null,
      "outputs": []
    },
    {
      "cell_type": "code",
      "metadata": {
        "id": "8OQREYQ8F8sS"
      },
      "source": [
        "!pip install git+git://github.com/andreinechaev/nvcc4jupyter.git"
      ],
      "execution_count": null,
      "outputs": []
    },
    {
      "cell_type": "code",
      "metadata": {
        "id": "l8_8Aq97GBL_"
      },
      "source": [
        "%load_ext nvcc_plugin"
      ],
      "execution_count": null,
      "outputs": []
    },
    {
      "cell_type": "code",
      "metadata": {
        "colab": {
          "base_uri": "https://localhost:8080/"
        },
        "id": "CI-39dwVFrWQ",
        "outputId": "1cb4ff6d-7962-4c77-b465-7e0b286cf3d1"
      },
      "source": [
        "%%cu\n",
        "#include <stdio.h>\n",
        "#include <stdlib.h>\n",
        "#include <cuda.h>\n",
        "\n",
        "/* Q1: Write a CUDA kernels for Matrix Addition:\n",
        "* a) Each row of resultant matrix is computed by one thread\n",
        "* a) Each col of resultant matrix is computed by one thread\n",
        "* a) Each element of resultant matrix is computed by one thread\n",
        "*/\n",
        "__global__ void matAddRow(int *a, int *b, int *sum, int M, int N){\n",
        "  int row = threadIdx.x;\n",
        "  if(row >= M)\n",
        "    return;\n",
        "  \n",
        "  int index;\n",
        "  for(int j = 0; j < N; j++){\n",
        "    index = row * N + j;\n",
        "    sum[index] = a[index] + b[index];\n",
        "  }\n",
        "}\n",
        "\n",
        "__global__ void matAddCol(int *a, int *b, int *sum, int M, int N){\n",
        "  int col = threadIdx.x;\n",
        "  if(col >= N)\n",
        "    return;\n",
        "  \n",
        "  int index;\n",
        "  for(int i = 0; i < M; i++){\n",
        "    index = i * N + col;\n",
        "    sum[index] = a[index] + b[index];\n",
        "  }\n",
        "}\n",
        "\n",
        "__global__ void matAddElement(int *a, int *b, int *sum, int M, int N){\n",
        "  int row = threadIdx.x;\n",
        "  int col = threadIdx.y;\n",
        "  int index = row * N + col;\n",
        "\n",
        "  if(row < M && col < N)\n",
        "    sum[index] = a[index] + b[index];\n",
        "}\n",
        "\n",
        "int main() {\n",
        "  int M = 3, N = 3;\n",
        "  // host copies of matrices a, b\n",
        "  int a[M][N] = {{1,2,3},{4,5,6},{7,8,9}};\n",
        "  int b[M][N] = {{1,2,3},{4,5,6},{7,8,9}};\n",
        "\n",
        "  // Separate arrays for the results of the 3 different kernel calls\n",
        "  int sum1[M][N];\n",
        "  int sum2[M][N];\n",
        "  int sum3[M][N];\n",
        " \n",
        "  // device copies of variables a, b & sum\n",
        "  int *d_a, *d_b, *d_sum;\n",
        "  int size = M * N * sizeof(int);\n",
        "\n",
        "  // Allocate space for device copies of a, b, sum\n",
        "  cudaMalloc((void **)&d_a, size);\n",
        "  cudaMalloc((void **)&d_b, size);\n",
        "  cudaMalloc((void **)&d_sum, size);\n",
        "\n",
        "  // Copy inputs to device\n",
        "  cudaMemcpy(d_a, a, size, cudaMemcpyHostToDevice);\n",
        "  cudaMemcpy(d_b, b, size, cudaMemcpyHostToDevice);\n",
        "\n",
        "  // Launch kernels on GPU:\n",
        "  cudaError err;\n",
        "\n",
        "  // a) A thread for each row\n",
        "  matAddRow<<<1, M>>>(d_a, d_b, d_sum, M, N);\n",
        "  err = cudaMemcpy(&sum1, d_sum, size, cudaMemcpyDeviceToHost);\n",
        "\n",
        "  // a) A thread for each col\n",
        "  matAddCol<<<1, N>>>(d_a, d_b, d_sum, M, N);\n",
        "  err = cudaMemcpy(&sum2, d_sum, size, cudaMemcpyDeviceToHost);\n",
        "\n",
        "  // c) A thread for each element\n",
        "  dim3 dimBlock(M,N,1);\n",
        "  matAddElement<<<1, dimBlock>>>(d_a, d_b, d_sum, M, N);\n",
        "  err = cudaMemcpy(&sum3, d_sum, size, cudaMemcpyDeviceToHost);\n",
        "\n",
        "  if(err != cudaSuccess) \n",
        "    printf(\"CUDA error copying to Host: %s\\n\", cudaGetErrorString(err));\n",
        "  \n",
        "  int i, j;\n",
        "  printf(\"One thread per row:\\n\");\n",
        "  for(i = 0; i < M; i++){\n",
        "      for(j = 0; j < N; j++)\n",
        "        printf(\"%d \", sum1[i][j]);\n",
        "      printf(\"\\n\");\n",
        "  }\n",
        "  printf(\"\\nOne thread per col:\\n\");\n",
        "  for(i = 0; i < M; i++){\n",
        "      for(j = 0; j < N; j++)\n",
        "        printf(\"%d \", sum2[i][j]);\n",
        "      printf(\"\\n\");\n",
        "  }\n",
        "  printf(\"\\nOne thread per element:\\n\");\n",
        "  for(i = 0; i < M; i++){\n",
        "      for(j = 0; j < N; j++)\n",
        "        printf(\"%d \", sum3[i][j]);\n",
        "      printf(\"\\n\");\n",
        "  }\n",
        "\n",
        "  // Cleanup\n",
        "  cudaFree(d_a);\n",
        "  cudaFree(d_b);\n",
        "  cudaFree(d_sum);\n",
        "  return 0;\n",
        "}"
      ],
      "execution_count": 45,
      "outputs": [
        {
          "output_type": "stream",
          "text": [
            "One thread per row:\n",
            "2 4 6 \n",
            "8 10 12 \n",
            "14 16 18 \n",
            "\n",
            "One thread per col:\n",
            "2 4 6 \n",
            "8 10 12 \n",
            "14 16 18 \n",
            "\n",
            "One thread per element:\n",
            "2 4 6 \n",
            "8 10 12 \n",
            "14 16 18 \n",
            "\n"
          ],
          "name": "stdout"
        }
      ]
    },
    {
      "cell_type": "code",
      "metadata": {
        "id": "U4gG6Cp3F2y9"
      },
      "source": [
        ""
      ],
      "execution_count": null,
      "outputs": []
    }
  ]
}