{
  "nbformat": 4,
  "nbformat_minor": 0,
  "metadata": {
    "colab": {
      "name": "lab6q2.ipynb",
      "provenance": [],
      "collapsed_sections": []
    },
    "kernelspec": {
      "display_name": "Python 3",
      "name": "python3"
    },
    "language_info": {
      "name": "python"
    },
    "accelerator": "GPU"
  },
  "cells": [
    {
      "cell_type": "code",
      "metadata": {
        "id": "ylzlEp1LC0Tl"
      },
      "source": [
        "!apt-get --purge remove cuda nvidia* libnvidia-*\n",
        "!dpkg -l | grep cuda- | awk '{print $2}' | xargs -n1 dpkg --purge\n",
        "!apt-get remove cuda-*\n",
        "!apt autoremove\n",
        "!apt-get update"
      ],
      "execution_count": null,
      "outputs": []
    },
    {
      "cell_type": "code",
      "metadata": {
        "id": "5StBjMUZDHh6"
      },
      "source": [
        "!wget https://developer.nvidia.com/compute/cuda/9.2/Prod/local_installers/cuda-repo-ubuntu1604-9-2-local_9.2.88-1_amd64 -O cuda-repo-ubuntu1604-9-2-local_9.2.88-1_amd64.deb\n",
        "!dpkg -i cuda-repo-ubuntu1604-9-2-local_9.2.88-1_amd64.deb\n",
        "!apt-key add /var/cuda-repo-9-2-local/7fa2af80.pub\n",
        "!apt-get update\n",
        "!apt-get install cuda-9.2"
      ],
      "execution_count": null,
      "outputs": []
    },
    {
      "cell_type": "code",
      "metadata": {
        "id": "x32Ol4qNDeoi",
        "colab": {
          "base_uri": "https://localhost:8080/"
        },
        "outputId": "5544ad18-1bfd-42df-b126-b4bab48f7587"
      },
      "source": [
        "!nvcc --version"
      ],
      "execution_count": 7,
      "outputs": [
        {
          "output_type": "stream",
          "text": [
            "nvcc: NVIDIA (R) Cuda compiler driver\n",
            "Copyright (c) 2005-2020 NVIDIA Corporation\n",
            "Built on Wed_Jul_22_19:09:09_PDT_2020\n",
            "Cuda compilation tools, release 11.0, V11.0.221\n",
            "Build cuda_11.0_bu.TC445_37.28845127_0\n"
          ],
          "name": "stdout"
        }
      ]
    },
    {
      "cell_type": "code",
      "metadata": {
        "id": "8OQREYQ8F8sS",
        "colab": {
          "base_uri": "https://localhost:8080/"
        },
        "outputId": "0a5878c2-5ff0-446c-eb4e-184024fa7bf0"
      },
      "source": [
        "!pip install git+git://github.com/andreinechaev/nvcc4jupyter.git"
      ],
      "execution_count": 8,
      "outputs": [
        {
          "output_type": "stream",
          "text": [
            "Collecting git+git://github.com/andreinechaev/nvcc4jupyter.git\n",
            "  Cloning git://github.com/andreinechaev/nvcc4jupyter.git to /tmp/pip-req-build-6qb_tobx\n",
            "  Running command git clone -q git://github.com/andreinechaev/nvcc4jupyter.git /tmp/pip-req-build-6qb_tobx\n",
            "Requirement already satisfied (use --upgrade to upgrade): NVCCPlugin==0.0.2 from git+git://github.com/andreinechaev/nvcc4jupyter.git in /usr/local/lib/python3.7/dist-packages\n",
            "Building wheels for collected packages: NVCCPlugin\n",
            "  Building wheel for NVCCPlugin (setup.py) ... \u001b[?25l\u001b[?25hdone\n",
            "  Created wheel for NVCCPlugin: filename=NVCCPlugin-0.0.2-cp37-none-any.whl size=4307 sha256=86624ed6e0cbc6b46278abf7540c207a99c4f39f16b19c00bac38d422201fff5\n",
            "  Stored in directory: /tmp/pip-ephem-wheel-cache-5n4153de/wheels/10/c2/05/ca241da37bff77d60d31a9174f988109c61ba989e4d4650516\n",
            "Successfully built NVCCPlugin\n"
          ],
          "name": "stdout"
        }
      ]
    },
    {
      "cell_type": "code",
      "metadata": {
        "id": "l8_8Aq97GBL_",
        "colab": {
          "base_uri": "https://localhost:8080/"
        },
        "outputId": "0f40479f-23fa-4b82-a034-95051264edc4"
      },
      "source": [
        "%load_ext nvcc_plugin"
      ],
      "execution_count": 15,
      "outputs": [
        {
          "output_type": "stream",
          "text": [
            "The nvcc_plugin extension is already loaded. To reload it, use:\n",
            "  %reload_ext nvcc_plugin\n"
          ],
          "name": "stdout"
        }
      ]
    },
    {
      "cell_type": "code",
      "metadata": {
        "colab": {
          "base_uri": "https://localhost:8080/"
        },
        "id": "CI-39dwVFrWQ",
        "outputId": "111a9926-fdc6-4f46-a0ed-47401fb1131f"
      },
      "source": [
        "%%cu\n",
        "#include <stdio.h>\n",
        "#include <stdlib.h>\n",
        "#include <cuda.h>\n",
        "\n",
        "/* Q1: Write a CUDA kernels for Matrix Multiplication:\n",
        "* a) Each row of resultant matrix is computed by one thread\n",
        "* a) Each col of resultant matrix is computed by one thread\n",
        "* a) Each element of resultant matrix is computed by one thread\n",
        "*/\n",
        "__global__ void matMultRow(int *a, int *b, int *prod, int M, int N, int P, int Q){\n",
        "  int row = threadIdx.x;\n",
        "  int prod_index, sum;\n",
        "\n",
        "  if(N != P)\n",
        "    return;\n",
        "\n",
        "  for(int j = 0; j < Q; j++){\n",
        "    sum = 0;\n",
        "    for(int k = 0; k < N; k++){\n",
        "      sum += a[row * N + k] * b[k * Q + j];\n",
        "    }\n",
        "\n",
        "    prod_index = row * Q + j;\n",
        "    prod[prod_index] = sum;\n",
        "  }\n",
        "}\n",
        "\n",
        "__global__ void matMultCol(int *a, int *b, int *prod, int M, int N, int P, int Q){\n",
        "  int col = threadIdx.x;\n",
        "  int prod_index, sum;\n",
        "\n",
        "  if(N != P)\n",
        "    return;\n",
        "\n",
        "  for(int i = 0; i < M; i++){\n",
        "    sum = 0;\n",
        "    for(int k = 0; k < N; k++){\n",
        "      sum += a[i * N + k] * b[k * Q + col];\n",
        "    }\n",
        "\n",
        "    prod_index = i * Q + col;\n",
        "    prod[prod_index] = sum;\n",
        "  }\n",
        "}\n",
        "\n",
        "__global__ void matMultElement(int *a, int *b, int *prod, int M, int N, int P, int Q){\n",
        "  int row = threadIdx.x;\n",
        "  int col = threadIdx.y;\n",
        "  int prod_index = row * N + col;\n",
        "\n",
        "  if(N != P)\n",
        "    return;\n",
        "\n",
        "  int sum = 0;\n",
        "  for(int k = 0; k < N; k++)\n",
        "    sum += a[row * N + k] * b[k * Q + col];\n",
        "  \n",
        "  prod[prod_index] = sum;\n",
        "}\n",
        "\n",
        "int main() {\n",
        "  int M = 1, N = 2, P = 2, Q = 3;\n",
        "\n",
        "  // host copies of matrices a, b\n",
        "  int a[M][N] = {1,2};\n",
        "  int b[P][Q] = {{1,2,3},{4,5,6}};\n",
        "\n",
        "  // Separate arrays for the results of the 3 different kernel calls\n",
        "  int prod1[M][Q];\n",
        "  int prod2[M][Q];\n",
        "  int prod3[M][Q];\n",
        " \n",
        "  // device copies of variables a, b & prod\n",
        "  int *d_a, *d_b, *d_prod;\n",
        "  int sizeA = M * N * sizeof(int);\n",
        "  int sizeB = P * Q * sizeof(int);\n",
        "  int sizeProd = M * Q * sizeof(int);\n",
        "\n",
        "  // Allocate space for device copies of a, b, prod\n",
        "  cudaMalloc((void **)&d_a, sizeA);\n",
        "  cudaMalloc((void **)&d_b, sizeB);\n",
        "  cudaMalloc((void **)&d_prod, sizeProd);\n",
        "\n",
        "  // Copy inputs to device\n",
        "  cudaMemcpy(d_a, a, sizeA, cudaMemcpyHostToDevice);\n",
        "  cudaMemcpy(d_b, b, sizeB, cudaMemcpyHostToDevice);\n",
        "\n",
        "  // Launch kernels on GPU:\n",
        "  cudaError err;\n",
        "\n",
        "  // a) A thread for each row\n",
        "  matMultRow<<<1, M>>>(d_a, d_b, d_prod, M, N, P, Q);\n",
        "  err = cudaMemcpy(&prod1, d_prod, sizeProd, cudaMemcpyDeviceToHost);\n",
        "\n",
        "  // b) A thread for each col\n",
        "  matMultCol<<<1, Q>>>(d_a, d_b, d_prod, M, N, P, Q);\n",
        "  err = cudaMemcpy(&prod2, d_prod, sizeProd, cudaMemcpyDeviceToHost);\n",
        "\n",
        "  // c) A thread for each element\n",
        "  dim3 dimBlock(M,Q,1);\n",
        "  matMultElement<<<1, dimBlock>>>(d_a, d_b, d_prod, M, N, P, Q);\n",
        "  err = cudaMemcpy(&prod3, d_prod, sizeProd, cudaMemcpyDeviceToHost);\n",
        "\n",
        "  if(err != cudaSuccess) \n",
        "    printf(\"CUDA error copying to Host: %s\\n\", cudaGetErrorString(err));\n",
        "  \n",
        "  int i, j;\n",
        "  printf(\"Matrix A (MxN): %d x %d\\n\",M,N);\n",
        "  for(i = 0; i < M; i++){\n",
        "      for(j = 0; j < N; j++)\n",
        "        printf(\"%d \", a[i][j]);\n",
        "      printf(\"\\n\");\n",
        "  }\n",
        "\n",
        "  printf(\"\\nMatrix B (PxQ): %d x %d\\n\",P,Q);\n",
        "  for(i = 0; i < P; i++){\n",
        "      for(j = 0; j < Q; j++)\n",
        "        printf(\"%d \", b[i][j]);\n",
        "      printf(\"\\n\");\n",
        "  }\n",
        "\n",
        "  printf(\"\\nOne thread per row:\\n\");\n",
        "  for(i = 0; i < M; i++){\n",
        "      for(j = 0; j < Q; j++)\n",
        "        printf(\"%d \", prod1[i][j]);\n",
        "      printf(\"\\n\");\n",
        "  }\n",
        "\n",
        "  printf(\"\\nOne thread per col:\\n\");\n",
        "  for(i = 0; i < M; i++){\n",
        "      for(j = 0; j < Q; j++)\n",
        "        printf(\"%d \", prod2[i][j]);\n",
        "      printf(\"\\n\");\n",
        "  }\n",
        "\n",
        "  printf(\"\\nOne thread per element:\\n\");\n",
        "  for(i = 0; i < M; i++){\n",
        "      for(j = 0; j < Q; j++)\n",
        "        printf(\"%d \", prod3[i][j]);\n",
        "      printf(\"\\n\");\n",
        "  }\n",
        "\n",
        "  // Cleanup\n",
        "  cudaFree(d_a);\n",
        "  cudaFree(d_b);\n",
        "  cudaFree(d_prod);\n",
        "  return 0;\n",
        "}"
      ],
      "execution_count": 22,
      "outputs": [
        {
          "output_type": "stream",
          "text": [
            "Matrix A (MxN): 1 x 2\n",
            "1 2 \n",
            "\n",
            "Matrix B (PxQ): 2 x 3\n",
            "1 2 3 \n",
            "4 5 6 \n",
            "\n",
            "One thread per row:\n",
            "9 12 15 \n",
            "\n",
            "One thread per col:\n",
            "9 12 15 \n",
            "\n",
            "One thread per element:\n",
            "9 12 15 \n",
            "\n"
          ],
          "name": "stdout"
        }
      ]
    },
    {
      "cell_type": "code",
      "metadata": {
        "id": "U4gG6Cp3F2y9"
      },
      "source": [
        ""
      ],
      "execution_count": null,
      "outputs": []
    }
  ]
}